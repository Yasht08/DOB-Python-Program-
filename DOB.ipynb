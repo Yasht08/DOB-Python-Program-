{
 "cells": [
  {
   "cell_type": "markdown",
   "metadata": {},
   "source": [
    "Write a program which accepts as input a DOB in the format \"dd/mm/yyyy \"and prints AGE of the person. Validate the input using Exceptional Handling \n",
    "If no input is given, prompt user to enter input \n",
    "If \"?\" is typed help the user by telling him/her to enter Data of Birth in the required format \n",
    "If date is entered validate the correctness of the date and print AGE \n",
    "If \"q\" or \"Q\" is entered invoke a user defined exception which quits the program after printing \"Bye! Hope you run this program again\". "
   ]
  },
  {
   "cell_type": "code",
   "execution_count": 4,
   "metadata": {},
   "outputs": [
    {
     "name": "stdout",
     "output_type": "stream",
     "text": [
      "Invalid input: time data ' ' does not match format '%d/%m/%Y'\n",
      "Invalid input: Cannot Be Empty\n",
      "Invalid input: Cannot Be Empty\n",
      "Invalid input: Cannot Be Empty\n",
      "Bye! Hope you run this program again.\n",
      "Your age is: 22 years\n"
     ]
    }
   ],
   "source": [
    "import datetime\n",
    "\n",
    "class InvalidDOB(Exception):\n",
    "    pass\n",
    "\n",
    "\n",
    "def cal(dob):\n",
    "    today=datetime.date.today()\n",
    "    age=today.year - dob.year - ((today.month, today.day) < (dob.month, dob.day))\n",
    "    return age\n",
    "\n",
    "def get_dob():\n",
    "    while True:\n",
    "        try:\n",
    "            dob_str=input(\"Enter DOB (dd/mm/yyyy), '?' for help, or 'q' to quit: \")\n",
    "            if not dob_str:\n",
    "                raise ValueError(\"Cannot Be Empty\")\n",
    "            elif dob_str.lower()=='q':\n",
    "                raise InvalidDOB(\"Bye! Hope you run this program again.\")\n",
    "            elif dob_str.lower()=='?':\n",
    "                print(\"Please enter DOB in the format 'dd/mm/yyyy'.\")\n",
    "                continue\n",
    "            \n",
    "            dob = datetime.datetime.strptime(dob_str, \"%d/%m/%Y\").date()\n",
    "            if dob > datetime.date.today():\n",
    "                raise InvalidDOB(\"DOB is not valid\")\n",
    "            \n",
    "            return dob\n",
    "        except ValueError as ve:\n",
    "            print(f\"Invalid input: {ve}\")\n",
    "        except InvalidDOB as ide:\n",
    "            print(ide)\n",
    "        except Exception as e:\n",
    "            print(f\"An error occurred: {e}\")\n",
    "\n",
    "def main():\n",
    "    try:\n",
    "        dob = get_dob()\n",
    "        age = cal(dob)\n",
    "        print(f\"Your age is: {age} years\")\n",
    "    except KeyboardInterrupt:\n",
    "        print(\"Cancelled\")\n",
    "    except Exception as e:\n",
    "        print(f\"Error : {e}\")\n",
    "\n",
    "if __name__ == \"__main__\":\n",
    "    main()\n"
   ]
  }
 ],
 "metadata": {
  "kernelspec": {
   "display_name": "Python 3",
   "language": "python",
   "name": "python3"
  },
  "language_info": {
   "codemirror_mode": {
    "name": "ipython",
    "version": 3
   },
   "file_extension": ".py",
   "mimetype": "text/x-python",
   "name": "python",
   "nbconvert_exporter": "python",
   "pygments_lexer": "ipython3",
   "version": "3.11.4"
  },
  "orig_nbformat": 4
 },
 "nbformat": 4,
 "nbformat_minor": 2
}
